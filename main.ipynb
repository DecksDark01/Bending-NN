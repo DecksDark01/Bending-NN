{
 "cells": [
  {
   "cell_type": "code",
   "execution_count": 1,
   "metadata": {},
   "outputs": [],
   "source": [
    "import numpy as np \n",
    "import matplotlib.pyplot as plt\n",
    "from pyDOE2 import lhs \n",
    "\n",
    "import torch \n",
    "np.random.seed(1)\n",
    "\n",
    "from BENDING_user_fc import check_and_modify_tensor\n",
    "torch.Tensor.check_and_modify = check_and_modify_tensor"
   ]
  },
  {
   "cell_type": "code",
   "execution_count": 2,
   "metadata": {},
   "outputs": [],
   "source": [
    "a = 1\n",
    "b = 1 \n",
    "\n",
    "size = 200 # size gia samples tou P(x,y) / dhladh 200 diaforetika P \n",
    "low = 1    \n",
    "high = 20 \n",
    "\n",
    "m = np.random.randint(low, high, size).reshape(-1,1)\n",
    "n = np.random.randint(low, high, size).reshape(-1,1)\n",
    "Pmn = np.random.randint(low, high, size).reshape(-1,1) # ! fix order of magn ths Pmn\n",
    "\n",
    "k_nodes = 50 # k nodes\n",
    "n_dim = 2       \n",
    "sensor_nodes = lhs(n_dim, samples=k_nodes)\n",
    "\n",
    "x_sensor = sensor_nodes[:, 0] * a\n",
    "y_sensor = sensor_nodes[:, 1] * b\n",
    "\n",
    "P = np.zeros((size,k_nodes))\n",
    "for i in range(size):\n",
    "    P[i,:] = Pmn[i]*np.sin(m[i]*np.pi*x_sensor/a)*np.sin(n[i]*np.pi*y_sensor/b)\n",
    "\n",
    "branch_input = np.repeat(P,40,axis=0)\n",
    "\n",
    "n_eval = 40 # random nodes for evaluating w\n",
    "n_dim = 2\n",
    "eval_nodes = lhs(n_dim, samples=n_eval)\n",
    "\n",
    "x_eval = eval_nodes[:,0]\n",
    "y_eval = eval_nodes[:,1]\n",
    "\n",
    "trunk_input = np.tile(eval_nodes, (200, 1))\n",
    "\n",
    "A = 1\n",
    "D = 1\n",
    "\n",
    "trunk_output = np.zeros((size*n_eval))\n",
    "counter = 0\n",
    "for i in range(size):\n",
    "    \n",
    "    if counter < 8000:\n",
    "        trunk_output[np.arange(counter,n_eval+counter)] = ((A/np.pi)**4) * (Pmn[i]/D) * np.sin(m[i]*np.pi*x_eval/a)*np.sin(n[i]*np.pi*y_eval/b)\n",
    "        counter+=n_eval\n",
    "\n",
    "trunk_output = trunk_output.reshape(-1,1)"
   ]
  },
  {
   "cell_type": "code",
   "execution_count": 3,
   "metadata": {},
   "outputs": [
    {
     "name": "stdout",
     "output_type": "stream",
     "text": [
      "Train branch shape : (8000, 50)\n",
      "Train trunk shape : (8000, 2)\n",
      "Train output shape : (8000, 1)\n"
     ]
    }
   ],
   "source": [
    "print(f'Train branch shape : {branch_input.shape}')\n",
    "print(f'Train trunk shape : {trunk_input.shape}')\n",
    "print(f'Train output shape : {trunk_output.shape}')"
   ]
  }
 ],
 "metadata": {
  "kernelspec": {
   "display_name": "Python 3",
   "language": "python",
   "name": "python3"
  },
  "language_info": {
   "codemirror_mode": {
    "name": "ipython",
    "version": 3
   },
   "file_extension": ".py",
   "mimetype": "text/x-python",
   "name": "python",
   "nbconvert_exporter": "python",
   "pygments_lexer": "ipython3",
   "version": "3.10.12"
  }
 },
 "nbformat": 4,
 "nbformat_minor": 2
}
